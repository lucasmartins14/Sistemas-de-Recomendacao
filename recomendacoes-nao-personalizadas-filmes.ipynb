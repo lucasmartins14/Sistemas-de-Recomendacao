{
 "cells": [
  {
   "cell_type": "markdown",
   "metadata": {},
   "source": [
    "# Recomendações não-personalizadas\n",
    "## Filmes que são frequentemente assistidos pelas mesmas pessoas\n",
    "\n",
    "\n",
    "\n",
    "\n"
   ]
  },
  {
   "cell_type": "code",
   "execution_count": 2,
   "metadata": {},
   "outputs": [],
   "source": [
    "# Importando os pacotes\n",
    "\n",
    "import pandas as pd\n",
    "from itertools import permutations"
   ]
  },
  {
   "cell_type": "code",
   "execution_count": 5,
   "metadata": {},
   "outputs": [
    {
     "data": {
      "text/html": [
       "<div>\n",
       "<style scoped>\n",
       "    .dataframe tbody tr th:only-of-type {\n",
       "        vertical-align: middle;\n",
       "    }\n",
       "\n",
       "    .dataframe tbody tr th {\n",
       "        vertical-align: top;\n",
       "    }\n",
       "\n",
       "    .dataframe thead th {\n",
       "        text-align: right;\n",
       "    }\n",
       "</style>\n",
       "<table border=\"1\" class=\"dataframe\">\n",
       "  <thead>\n",
       "    <tr style=\"text-align: right;\">\n",
       "      <th></th>\n",
       "      <th>userId</th>\n",
       "      <th>movieId</th>\n",
       "      <th>rating</th>\n",
       "      <th>timestamp</th>\n",
       "      <th>title</th>\n",
       "      <th>genres</th>\n",
       "    </tr>\n",
       "  </thead>\n",
       "  <tbody>\n",
       "    <tr>\n",
       "      <th>0</th>\n",
       "      <td>1</td>\n",
       "      <td>1</td>\n",
       "      <td>4.0</td>\n",
       "      <td>964982703</td>\n",
       "      <td>Toy Story (1995)</td>\n",
       "      <td>Adventure|Animation|Children|Comedy|Fantasy</td>\n",
       "    </tr>\n",
       "    <tr>\n",
       "      <th>1</th>\n",
       "      <td>5</td>\n",
       "      <td>1</td>\n",
       "      <td>4.0</td>\n",
       "      <td>847434962</td>\n",
       "      <td>Toy Story (1995)</td>\n",
       "      <td>Adventure|Animation|Children|Comedy|Fantasy</td>\n",
       "    </tr>\n",
       "    <tr>\n",
       "      <th>2</th>\n",
       "      <td>7</td>\n",
       "      <td>1</td>\n",
       "      <td>4.5</td>\n",
       "      <td>1106635946</td>\n",
       "      <td>Toy Story (1995)</td>\n",
       "      <td>Adventure|Animation|Children|Comedy|Fantasy</td>\n",
       "    </tr>\n",
       "    <tr>\n",
       "      <th>3</th>\n",
       "      <td>15</td>\n",
       "      <td>1</td>\n",
       "      <td>2.5</td>\n",
       "      <td>1510577970</td>\n",
       "      <td>Toy Story (1995)</td>\n",
       "      <td>Adventure|Animation|Children|Comedy|Fantasy</td>\n",
       "    </tr>\n",
       "    <tr>\n",
       "      <th>4</th>\n",
       "      <td>17</td>\n",
       "      <td>1</td>\n",
       "      <td>4.5</td>\n",
       "      <td>1305696483</td>\n",
       "      <td>Toy Story (1995)</td>\n",
       "      <td>Adventure|Animation|Children|Comedy|Fantasy</td>\n",
       "    </tr>\n",
       "  </tbody>\n",
       "</table>\n",
       "</div>"
      ],
      "text/plain": [
       "   userId  movieId  rating   timestamp             title  \\\n",
       "0       1        1     4.0   964982703  Toy Story (1995)   \n",
       "1       5        1     4.0   847434962  Toy Story (1995)   \n",
       "2       7        1     4.5  1106635946  Toy Story (1995)   \n",
       "3      15        1     2.5  1510577970  Toy Story (1995)   \n",
       "4      17        1     4.5  1305696483  Toy Story (1995)   \n",
       "\n",
       "                                        genres  \n",
       "0  Adventure|Animation|Children|Comedy|Fantasy  \n",
       "1  Adventure|Animation|Children|Comedy|Fantasy  \n",
       "2  Adventure|Animation|Children|Comedy|Fantasy  \n",
       "3  Adventure|Animation|Children|Comedy|Fantasy  \n",
       "4  Adventure|Animation|Children|Comedy|Fantasy  "
      ]
     },
     "execution_count": 5,
     "metadata": {},
     "output_type": "execute_result"
    }
   ],
   "source": [
    "# Lendo o CSV e armazenando em um DataFrame\n",
    "\n",
    "df = pd.read_csv(\"/Users/lucasmartins/Documents/LucasMartins/Projetos/Recomendacao/Recomendacao_nao_personalizada_filmes/user_ratings.csv\")\n",
    "df.head()"
   ]
  },
  {
   "cell_type": "code",
   "execution_count": 6,
   "metadata": {},
   "outputs": [
    {
     "data": {
      "text/html": [
       "<div>\n",
       "<style scoped>\n",
       "    .dataframe tbody tr th:only-of-type {\n",
       "        vertical-align: middle;\n",
       "    }\n",
       "\n",
       "    .dataframe tbody tr th {\n",
       "        vertical-align: top;\n",
       "    }\n",
       "\n",
       "    .dataframe thead th {\n",
       "        text-align: right;\n",
       "    }\n",
       "</style>\n",
       "<table border=\"1\" class=\"dataframe\">\n",
       "  <thead>\n",
       "    <tr style=\"text-align: right;\">\n",
       "      <th></th>\n",
       "      <th>userId</th>\n",
       "      <th>title</th>\n",
       "    </tr>\n",
       "  </thead>\n",
       "  <tbody>\n",
       "    <tr>\n",
       "      <th>0</th>\n",
       "      <td>1</td>\n",
       "      <td>Toy Story (1995)</td>\n",
       "    </tr>\n",
       "    <tr>\n",
       "      <th>1</th>\n",
       "      <td>5</td>\n",
       "      <td>Toy Story (1995)</td>\n",
       "    </tr>\n",
       "    <tr>\n",
       "      <th>2</th>\n",
       "      <td>7</td>\n",
       "      <td>Toy Story (1995)</td>\n",
       "    </tr>\n",
       "    <tr>\n",
       "      <th>3</th>\n",
       "      <td>15</td>\n",
       "      <td>Toy Story (1995)</td>\n",
       "    </tr>\n",
       "    <tr>\n",
       "      <th>4</th>\n",
       "      <td>17</td>\n",
       "      <td>Toy Story (1995)</td>\n",
       "    </tr>\n",
       "  </tbody>\n",
       "</table>\n",
       "</div>"
      ],
      "text/plain": [
       "   userId             title\n",
       "0       1  Toy Story (1995)\n",
       "1       5  Toy Story (1995)\n",
       "2       7  Toy Story (1995)\n",
       "3      15  Toy Story (1995)\n",
       "4      17  Toy Story (1995)"
      ]
     },
     "execution_count": 6,
     "metadata": {},
     "output_type": "execute_result"
    }
   ],
   "source": [
    "# Selecionando apenas as colunas de usuários e títulos\n",
    "\n",
    "df = df[[\"userId\", \"title\"]]\n",
    "df.head()"
   ]
  },
  {
   "cell_type": "code",
   "execution_count": 7,
   "metadata": {},
   "outputs": [],
   "source": [
    "# Criando a função que encontrará todas as combinações de pares de livros\n",
    "\n",
    "def create_pairs(x):\n",
    "    #Cria as combinações e empacota em um DataFrame\n",
    "\n",
    "    pairs = pd.DataFrame(list(permutations(x.values, 2)), columns=[\"movie_a\", \"movie_b\"])\n",
    "\n",
    "    return pairs"
   ]
  },
  {
   "cell_type": "code",
   "execution_count": 8,
   "metadata": {},
   "outputs": [
    {
     "name": "stdout",
     "output_type": "stream",
     "text": [
      "                   movie_a                      movie_b\n",
      "userId                                                 \n",
      "1      0  Toy Story (1995)      Grumpier Old Men (1995)\n",
      "       1  Toy Story (1995)                  Heat (1995)\n",
      "       2  Toy Story (1995)  Seven (a.k.a. Se7en) (1995)\n",
      "       3  Toy Story (1995)   Usual Suspects, The (1995)\n",
      "       4  Toy Story (1995)   From Dusk Till Dawn (1996)\n"
     ]
    }
   ],
   "source": [
    "# Aplicando a função nos dados e criando os pares individuais\n",
    "\n",
    "movie_pairs = df.groupby(\"userId\")[\"title\"].apply(create_pairs)\n",
    "print(movie_pairs.head())"
   ]
  },
  {
   "cell_type": "code",
   "execution_count": 11,
   "metadata": {},
   "outputs": [
    {
     "name": "stdout",
     "output_type": "stream",
     "text": [
      "            movie_a                      movie_b\n",
      "0  Toy Story (1995)      Grumpier Old Men (1995)\n",
      "1  Toy Story (1995)                  Heat (1995)\n",
      "2  Toy Story (1995)  Seven (a.k.a. Se7en) (1995)\n",
      "3  Toy Story (1995)   Usual Suspects, The (1995)\n",
      "4  Toy Story (1995)   From Dusk Till Dawn (1996)\n"
     ]
    }
   ],
   "source": [
    "# Limpando os resultados\n",
    "\n",
    "movie_pairs = movie_pairs.reset_index(drop=True)\n",
    "print(movie_pairs.head())"
   ]
  },
  {
   "cell_type": "code",
   "execution_count": 12,
   "metadata": {},
   "outputs": [
    {
     "name": "stdout",
     "output_type": "stream",
     "text": [
      "movie_a     movie_b                                   \n",
      "'71 (2014)  (500) Days of Summer (2009)                   1\n",
      "            10 Cloverfield Lane (2016)                    1\n",
      "            127 Hours (2010)                              1\n",
      "            13 Assassins (Jûsan-nin no shikaku) (2010)    1\n",
      "            13 Hours (2016)                               1\n",
      "dtype: int64\n"
     ]
    }
   ],
   "source": [
    "# Descobrindo quantas vezes cada combinação ocorre\n",
    "\n",
    "pair_counts = movie_pairs.groupby([\"movie_a\", \"movie_b\"]).size()\n",
    "print(pair_counts.head())"
   ]
  },
  {
   "cell_type": "code",
   "execution_count": 13,
   "metadata": {},
   "outputs": [
    {
     "name": "stdout",
     "output_type": "stream",
     "text": [
      "      movie_a                                     movie_b  size\n",
      "0  '71 (2014)                 (500) Days of Summer (2009)     1\n",
      "1  '71 (2014)                  10 Cloverfield Lane (2016)     1\n",
      "2  '71 (2014)                            127 Hours (2010)     1\n",
      "3  '71 (2014)  13 Assassins (Jûsan-nin no shikaku) (2010)     1\n",
      "4  '71 (2014)                             13 Hours (2016)     1\n"
     ]
    }
   ],
   "source": [
    "# Convertendo para DataFrame\n",
    "\n",
    "pair_counts_df = pair_counts.to_frame(name= \"size\").reset_index()\n",
    "print(pair_counts_df.head())"
   ]
  },
  {
   "cell_type": "code",
   "execution_count": 14,
   "metadata": {},
   "outputs": [
    {
     "name": "stdout",
     "output_type": "stream",
     "text": [
      "                                   movie_a                           movie_b  \\\n",
      "20672049  Shawshank Redemption, The (1994)               Forrest Gump (1994)   \n",
      "8538313                Forrest Gump (1994)  Shawshank Redemption, The (1994)   \n",
      "8537603                Forrest Gump (1994)               Pulp Fiction (1994)   \n",
      "18567035               Pulp Fiction (1994)               Forrest Gump (1994)   \n",
      "20675275  Shawshank Redemption, The (1994)               Pulp Fiction (1994)   \n",
      "18571122               Pulp Fiction (1994)  Shawshank Redemption, The (1994)   \n",
      "18571206               Pulp Fiction (1994)  Silence of the Lambs, The (1991)   \n",
      "20932489  Silence of the Lambs, The (1991)               Pulp Fiction (1994)   \n",
      "20675997  Shawshank Redemption, The (1994)  Silence of the Lambs, The (1991)   \n",
      "20929081  Silence of the Lambs, The (1991)               Forrest Gump (1994)   \n",
      "\n",
      "          size  \n",
      "20672049   231  \n",
      "8538313    231  \n",
      "8537603    230  \n",
      "18567035   230  \n",
      "20675275   222  \n",
      "18571122   222  \n",
      "18571206   207  \n",
      "20932489   207  \n",
      "20675997   199  \n",
      "20929081   199  \n"
     ]
    }
   ],
   "source": [
    "# Classificando o DataFrame\n",
    "\n",
    "pair_counts_sorted = pair_counts_df.sort_values(\"size\", ascending=False)\n",
    "print(pair_counts_sorted.head(10))"
   ]
  },
  {
   "cell_type": "code",
   "execution_count": 15,
   "metadata": {},
   "outputs": [
    {
     "data": {
      "text/html": [
       "<div>\n",
       "<style scoped>\n",
       "    .dataframe tbody tr th:only-of-type {\n",
       "        vertical-align: middle;\n",
       "    }\n",
       "\n",
       "    .dataframe tbody tr th {\n",
       "        vertical-align: top;\n",
       "    }\n",
       "\n",
       "    .dataframe thead th {\n",
       "        text-align: right;\n",
       "    }\n",
       "</style>\n",
       "<table border=\"1\" class=\"dataframe\">\n",
       "  <thead>\n",
       "    <tr style=\"text-align: right;\">\n",
       "      <th></th>\n",
       "      <th>movie_a</th>\n",
       "      <th>movie_b</th>\n",
       "      <th>size</th>\n",
       "    </tr>\n",
       "  </thead>\n",
       "  <tbody>\n",
       "    <tr>\n",
       "      <th>25840294</th>\n",
       "      <td>Wolf of Wall Street, The (2013)</td>\n",
       "      <td>Dark Knight, The (2008)</td>\n",
       "      <td>43</td>\n",
       "    </tr>\n",
       "    <tr>\n",
       "      <th>25840965</th>\n",
       "      <td>Wolf of Wall Street, The (2013)</td>\n",
       "      <td>Forrest Gump (1994)</td>\n",
       "      <td>41</td>\n",
       "    </tr>\n",
       "    <tr>\n",
       "      <th>25841736</th>\n",
       "      <td>Wolf of Wall Street, The (2013)</td>\n",
       "      <td>Inception (2010)</td>\n",
       "      <td>40</td>\n",
       "    </tr>\n",
       "    <tr>\n",
       "      <th>25843822</th>\n",
       "      <td>Wolf of Wall Street, The (2013)</td>\n",
       "      <td>Shawshank Redemption, The (1994)</td>\n",
       "      <td>40</td>\n",
       "    </tr>\n",
       "    <tr>\n",
       "      <th>25840860</th>\n",
       "      <td>Wolf of Wall Street, The (2013)</td>\n",
       "      <td>Fight Club (1999)</td>\n",
       "      <td>40</td>\n",
       "    </tr>\n",
       "    <tr>\n",
       "      <th>25842493</th>\n",
       "      <td>Wolf of Wall Street, The (2013)</td>\n",
       "      <td>Matrix, The (1999)</td>\n",
       "      <td>39</td>\n",
       "    </tr>\n",
       "    <tr>\n",
       "      <th>25840293</th>\n",
       "      <td>Wolf of Wall Street, The (2013)</td>\n",
       "      <td>Dark Knight Rises, The (2012)</td>\n",
       "      <td>37</td>\n",
       "    </tr>\n",
       "    <tr>\n",
       "      <th>25840484</th>\n",
       "      <td>Wolf of Wall Street, The (2013)</td>\n",
       "      <td>Django Unchained (2012)</td>\n",
       "      <td>36</td>\n",
       "    </tr>\n",
       "    <tr>\n",
       "      <th>25843348</th>\n",
       "      <td>Wolf of Wall Street, The (2013)</td>\n",
       "      <td>Pulp Fiction (1994)</td>\n",
       "      <td>36</td>\n",
       "    </tr>\n",
       "    <tr>\n",
       "      <th>25843881</th>\n",
       "      <td>Wolf of Wall Street, The (2013)</td>\n",
       "      <td>Silence of the Lambs, The (1991)</td>\n",
       "      <td>35</td>\n",
       "    </tr>\n",
       "  </tbody>\n",
       "</table>\n",
       "</div>"
      ],
      "text/plain": [
       "                                  movie_a                           movie_b  \\\n",
       "25840294  Wolf of Wall Street, The (2013)           Dark Knight, The (2008)   \n",
       "25840965  Wolf of Wall Street, The (2013)               Forrest Gump (1994)   \n",
       "25841736  Wolf of Wall Street, The (2013)                  Inception (2010)   \n",
       "25843822  Wolf of Wall Street, The (2013)  Shawshank Redemption, The (1994)   \n",
       "25840860  Wolf of Wall Street, The (2013)                 Fight Club (1999)   \n",
       "25842493  Wolf of Wall Street, The (2013)                Matrix, The (1999)   \n",
       "25840293  Wolf of Wall Street, The (2013)     Dark Knight Rises, The (2012)   \n",
       "25840484  Wolf of Wall Street, The (2013)           Django Unchained (2012)   \n",
       "25843348  Wolf of Wall Street, The (2013)               Pulp Fiction (1994)   \n",
       "25843881  Wolf of Wall Street, The (2013)  Silence of the Lambs, The (1991)   \n",
       "\n",
       "          size  \n",
       "25840294    43  \n",
       "25840965    41  \n",
       "25841736    40  \n",
       "25843822    40  \n",
       "25840860    40  \n",
       "25842493    39  \n",
       "25840293    37  \n",
       "25840484    36  \n",
       "25843348    36  \n",
       "25843881    35  "
      ]
     },
     "execution_count": 15,
     "metadata": {},
     "output_type": "execute_result"
    }
   ],
   "source": [
    "#  Recomendação dos filmes que são frequentemente juntos\n",
    "\n",
    "# movie_a, você passará o filme que deseja saber as recomedações.\n",
    "# movie_b, retornará a lista de filmes que frequentemente são assistidos pela mesma pessoa, do movie_a, e a frequência que ocorre.\n",
    "\n",
    "pair_counts_sorted[pair_counts_sorted[\"movie_a\"] == \"Wolf of Wall Street, The (2013)\"].head(10)"
   ]
  }
 ],
 "metadata": {
  "interpreter": {
   "hash": "aee8b7b246df8f9039afb4144a1f6fd8d2ca17a180786b69acc140d282b71a49"
  },
  "kernelspec": {
   "display_name": "Python 3.9.10 64-bit",
   "language": "python",
   "name": "python3"
  },
  "language_info": {
   "codemirror_mode": {
    "name": "ipython",
    "version": 3
   },
   "file_extension": ".py",
   "mimetype": "text/x-python",
   "name": "python",
   "nbconvert_exporter": "python",
   "pygments_lexer": "ipython3",
   "version": "3.9.10"
  },
  "orig_nbformat": 4
 },
 "nbformat": 4,
 "nbformat_minor": 2
}
